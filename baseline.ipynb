{
  "nbformat": 4,
  "nbformat_minor": 0,
  "metadata": {
    "colab": {
      "provenance": []
    },
    "kernelspec": {
      "name": "python3",
      "display_name": "Python 3"
    },
    "language_info": {
      "name": "python"
    }
  },
  "cells": [
    {
      "cell_type": "code",
      "execution_count": null,
      "metadata": {
        "id": "T0AidKtJI-1V"
      },
      "outputs": [],
      "source": [
        "!pip install transformers"
      ]
    },
    {
      "cell_type": "code",
      "source": [
        "from transformers import DistilBertTokenizer, DistilBertForTokenClassification\n",
        "import torch "
      ],
      "metadata": {
        "id": "tItkDeUZJj3t"
      },
      "execution_count": null,
      "outputs": []
    },
    {
      "cell_type": "code",
      "source": [
        "tokenizer = DistilBertTokenizer.from_pretrained('distilbert-base-cased')\n",
        "model = DistilBertForTokenClassification.from_pretrained('distilbert-base-cased', output_attentions = False, output_hidden_states=False)\n",
        "model.to(device)"
      ],
      "metadata": {
        "id": "F__itEOZKAJh"
      },
      "execution_count": null,
      "outputs": []
    },
    {
      "cell_type": "code",
      "source": [
        "task = \"ner\" # needs to be one of ner, pos, or chunk\n",
        "batch_size = 16"
      ],
      "metadata": {
        "id": "--3gotWxLg9N"
      },
      "execution_count": null,
      "outputs": []
    },
    {
      "cell_type": "markdown",
      "source": [
        "https://colab.research.google.com/github/huggingface/notebooks/blob/main/examples/token_classification.ipynb#scrollTo=545PP3o8IrJV"
      ],
      "metadata": {
        "id": "yrHurfWdLmg8"
      }
    }
  ]
}